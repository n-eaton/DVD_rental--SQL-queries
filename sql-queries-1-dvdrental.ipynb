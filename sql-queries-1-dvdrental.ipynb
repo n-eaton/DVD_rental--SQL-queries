{
 "cells": [
  {
   "cell_type": "markdown",
   "id": "cd5e6c3f",
   "metadata": {},
   "source": [
    "#### 1. How many actors are there with the last name ‘Wahlberg’?         -- #2 actors--\n"
   ]
  },
  {
   "cell_type": "markdown",
   "id": "8caa1ff5",
   "metadata": {},
   "source": [
    "SELECT*\n",
    "FROM actor\n",
    "WHERE last_name = 'Wahlberg'       "
   ]
  },
  {
   "cell_type": "markdown",
   "id": "ee237c02",
   "metadata": {},
   "source": [
    "#### 2. How many payments were made between $3.99 and 5.99?    -- 5607 payments were made--\n"
   ]
  },
  {
   "cell_type": "code",
   "execution_count": null,
   "id": "fab77c59",
   "metadata": {},
   "outputs": [],
   "source": [
    "SELECT COUNT (amount)\n",
    "FROM payment \n",
    "WHERE amount BETWEEN 3.99 AND 5.99\t-- Answer 5607 payments affected."
   ]
  },
  {
   "cell_type": "markdown",
   "id": "2269dd43",
   "metadata": {},
   "source": [
    "#### 3. What film does the store have the most of... (copies?) (search in inventory)"
   ]
  },
  {
   "cell_type": "code",
   "execution_count": null,
   "id": "6e86cf26",
   "metadata": {},
   "outputs": [],
   "source": [
    "SELECT title\n",
    "FROM film \n",
    "WHERE film_id\t\n",
    "IN (SELECT film_id COUNT FROM inventory GrOUP BY film_id HAVING COUNT(*)>=8); "
   ]
  },
  {
   "cell_type": "markdown",
   "id": "4b3c82d4",
   "metadata": {},
   "source": [
    "#### 4. How many customers have the last name ‘William’? -- # Zero customers "
   ]
  },
  {
   "cell_type": "code",
   "execution_count": null,
   "id": "b57af047",
   "metadata": {},
   "outputs": [],
   "source": [
    "SELECT*\n",
    "FROM customer\n",
    "WHERE last_name = 'William'          -- Answer # None"
   ]
  },
  {
   "cell_type": "markdown",
   "id": "b1b27d9b",
   "metadata": {},
   "source": [
    "#### 5. What store employee (get the id) sold the most rentals?"
   ]
  },
  {
   "cell_type": "code",
   "execution_count": null,
   "id": "3de7e528",
   "metadata": {},
   "outputs": [],
   "source": [
    "SELECT staff_id\n",
    "FROM rental\t16044 rows affected.\n",
    "\n",
    "SELECT COUNT(staff_id)\n",
    "FROM rental\n",
    "GROUP BY staff_id.rental =   -- 8040 rentals store \n",
    "because the store #1 have  most sales Mike Higllier with an emplooyee ID 1 sold the most"
   ]
  },
  {
   "cell_type": "markdown",
   "id": "bea15c9b",
   "metadata": {},
   "source": [
    "#### OR"
   ]
  },
  {
   "cell_type": "code",
   "execution_count": null,
   "id": "bc06d8eb",
   "metadata": {},
   "outputs": [],
   "source": [
    "SELECT staff.staff_id, staff.username, SUM (payment.amount)\n",
    "FROM staff\n",
    "JOIN payment ON staff.staff_id = payment.staff_id\n",
    "GROUP BY staff.staff_id, staff.username"
   ]
  },
  {
   "cell_type": "markdown",
   "id": "048708a3",
   "metadata": {},
   "source": [
    "#### 6. How many different district names are there? --  # 378 rows affected.-- "
   ]
  },
  {
   "cell_type": "code",
   "execution_count": null,
   "id": "d3e9f74f",
   "metadata": {},
   "outputs": [],
   "source": [
    "SELECT COUNT (DISTINCT district)\n",
    "FROM public.address           -- Answer 378 different district names"
   ]
  },
  {
   "cell_type": "markdown",
   "id": "6046ce89",
   "metadata": {},
   "source": [
    "#### 7. What film has the most actors in it? (use film_actor table and get film_id)"
   ]
  },
  {
   "cell_type": "code",
   "execution_count": null,
   "id": "74496f03",
   "metadata": {},
   "outputs": [],
   "source": [
    "-- SELECT MAX (actor_id)\n",
    "-- FROM film_actor\n",
    "\n",
    "\n",
    "-- SELECT actor_id, film_id \n",
    "-- FROM film_actor\n",
    "-- ORDER BY actor_id, film_id;"
   ]
  },
  {
   "cell_type": "markdown",
   "id": "5439cc38",
   "metadata": {},
   "source": [
    "#### 8. From store_id 1, how many customers have a last name ending with ‘es’? (use customer table)"
   ]
  },
  {
   "cell_type": "markdown",
   "id": "fffc6ef3",
   "metadata": {},
   "source": [
    "-- SELECT last_name\n",
    "-- FROM customer\n",
    "-- WHERE last_name LIKE '%es'  \t\t\t   -- Answer 21 rows \n",
    "\n",
    "-- SELECT store_id=1,last_name\n",
    "-- FROM customer\n",
    "-- WHERE last_name LIKE '%es'               -- Answer 13 customers from  store id 1"
   ]
  },
  {
   "cell_type": "code",
   "execution_count": null,
   "id": "9bbfa3ff",
   "metadata": {},
   "outputs": [],
   "source": []
  },
  {
   "cell_type": "markdown",
   "id": "a204feba",
   "metadata": {},
   "source": [
    "####  9. How many payment amounts (4.99, 5.99, etc.) had a number of rentals above 250 for customers\n",
    "-- with ids between 380 and 430? (use group by and having > 250)"
   ]
  },
  {
   "cell_type": "code",
   "execution_count": null,
   "id": "bc460b00",
   "metadata": {},
   "outputs": [],
   "source": [
    "SELECT payment.amount, COUNT (rental.rental_id) as rental_count\n",
    "FROM payment \n",
    "JOIN rental ON payment.customer_id = rental.customer_id\n",
    "WHERE payment.customer_id BETWEEN 380 and 430\n",
    "GROUP BY payment.amount\n",
    "HAVING COUNT(rental.rental_id) >250\n",
    "ORDER BY rental_count DESC;"
   ]
  },
  {
   "cell_type": "markdown",
   "id": "a02284f5",
   "metadata": {},
   "source": [
    "####  10. Within the film table, how many rating categories are there?  -- 5 rating categories And what rating has the most movies total?\t\t\t\t\t\t \n",
    "                                                                          -- PG-13 has 223 "
   ]
  },
  {
   "cell_type": "code",
   "execution_count": null,
   "id": "00720829",
   "metadata": {},
   "outputs": [],
   "source": [
    "-- SELECT DISTINCT rating \n",
    "-- FROM film\t\t\t\t\t\t\t\t -- Answer #5 rating categories\n",
    "\n",
    "\n",
    "-- SELECT rating, COUNT(rating)\n",
    "-- FROM film\n",
    "-- GROUP BY rating \t\t\t\t\t\t\t -- Answer PG-13 has 223 "
   ]
  },
  {
   "cell_type": "markdown",
   "id": "b7c13a0f",
   "metadata": {},
   "source": [
    "#### 11. How many districts do they service?"
   ]
  },
  {
   "cell_type": "code",
   "execution_count": null,
   "id": "a7f0a5f9",
   "metadata": {},
   "outputs": [],
   "source": [
    "SELECT DISTINCT district FROM address     -- Answer 378"
   ]
  },
  {
   "cell_type": "markdown",
   "id": "dbcb2c34",
   "metadata": {},
   "source": [
    "#### 12. How many records were made from Abu Dhabi?"
   ]
  },
  {
   "cell_type": "code",
   "execution_count": null,
   "id": "a7f1c01e",
   "metadata": {},
   "outputs": [],
   "source": [
    "SELECT *\n",
    "FROM city\n",
    "WHERE city\n",
    "LIKE 'Abu Dhabi'                             -- Answer 1"
   ]
  },
  {
   "cell_type": "markdown",
   "id": "4696873c",
   "metadata": {},
   "source": [
    "#### 13. Retrive all cities that starts with a letter 'P'."
   ]
  },
  {
   "cell_type": "code",
   "execution_count": null,
   "id": "7ec34de6",
   "metadata": {},
   "outputs": [],
   "source": [
    "SELECT *\n",
    "FROM city\n",
    "WHERE city\n",
    "LIKE 'P%'"
   ]
  },
  {
   "cell_type": "markdown",
   "id": "03d89920",
   "metadata": {},
   "source": [
    "#### 14. Retrive all cities that starts with a letter 'P' and a thrird letter is 'o'."
   ]
  },
  {
   "cell_type": "code",
   "execution_count": null,
   "id": "dee2f69f",
   "metadata": {},
   "outputs": [],
   "source": [
    "SELECT *\n",
    "FROM city\n",
    "WHERE city\n",
    "LIKE 'P_o%'"
   ]
  },
  {
   "cell_type": "markdown",
   "id": "d313bfc6",
   "metadata": {},
   "source": [
    "#### 15. Retrive all cities that starts with a letter 'P' and ends with an 'a', as well have an 'o' as a 3rd letter."
   ]
  },
  {
   "cell_type": "code",
   "execution_count": null,
   "id": "1f2389cc",
   "metadata": {},
   "outputs": [],
   "source": [
    "SELECT *\n",
    "FROM city\n",
    "WHERE city\n",
    "LIKE 'P_o%a'"
   ]
  },
  {
   "cell_type": "markdown",
   "id": "4373f79e",
   "metadata": {},
   "source": [
    "#### 16. Select all customers with a first name Peter."
   ]
  },
  {
   "cell_type": "code",
   "execution_count": null,
   "id": "60f5c1cc",
   "metadata": {},
   "outputs": [],
   "source": [
    "SELECT *\n",
    "FROM customer\n",
    "WHERE first_name = 'Peter'"
   ]
  },
  {
   "cell_type": "markdown",
   "id": "3cad92f4",
   "metadata": {},
   "source": [
    "####  17. Change the text of the columns from first_name, last_name to \"First Name\" and \"Last Name\" in customer table."
   ]
  },
  {
   "cell_type": "code",
   "execution_count": null,
   "id": "3710c993",
   "metadata": {},
   "outputs": [],
   "source": [
    "SELECT first_name \n",
    "AS \"First Name\", last_name AS \"Last Name\"\n",
    "FROM customer"
   ]
  },
  {
   "cell_type": "markdown",
   "id": "f103e869",
   "metadata": {},
   "source": [
    "#### 18.  Concatinate two columns into one."
   ]
  },
  {
   "cell_type": "code",
   "execution_count": null,
   "id": "62a33f22",
   "metadata": {},
   "outputs": [],
   "source": [
    "SELECT CONCAT (first_name, '', last_name)\n",
    "FROM customer"
   ]
  },
  {
   "cell_type": "code",
   "execution_count": null,
   "id": "7fba3449",
   "metadata": {},
   "outputs": [],
   "source": [
    "SELECT CONCAT (first_name, '', last_name) AS \"First, Last\"\n",
    "FROM customer"
   ]
  },
  {
   "cell_type": "markdown",
   "id": "b6809144",
   "metadata": {},
   "source": [
    "#### 19.  What is the max amount which were made by the customer."
   ]
  },
  {
   "cell_type": "code",
   "execution_count": null,
   "id": "f79df400",
   "metadata": {},
   "outputs": [],
   "source": [
    "SELECT MAX (amount)\n",
    "FROM payment"
   ]
  },
  {
   "cell_type": "markdown",
   "id": "6d0169a8",
   "metadata": {},
   "source": [
    "#### 20. Select all rental durations that were greater than 6 days."
   ]
  },
  {
   "cell_type": "code",
   "execution_count": null,
   "id": "08a86120",
   "metadata": {},
   "outputs": [],
   "source": [
    "SELECT *\n",
    "FROM film\n",
    "WHERE rental_duration > 6"
   ]
  },
  {
   "cell_type": "markdown",
   "id": "a108c2ce",
   "metadata": {},
   "source": [
    "#### 21. Create a relationship between tables"
   ]
  },
  {
   "cell_type": "code",
   "execution_count": null,
   "id": "532ecb8c",
   "metadata": {},
   "outputs": [],
   "source": [
    "SELECT rental_id, rental_date, return_date, customer.customer_id, first_name, last_name\n",
    "FROM rental\n",
    "JOIN customer \n",
    "ON rental.customer_id = customer.customer_id;\n",
    "\n",
    " ---OR---\n",
    "\n",
    "SELECT *\n",
    "FROM rental\n",
    "JOIN customer \n",
    "ON rental.customer_id = customer.customer_id;"
   ]
  },
  {
   "cell_type": "markdown",
   "id": "f20d0bc7",
   "metadata": {},
   "source": [
    "#### 22. What ratings that are greater than 195?"
   ]
  },
  {
   "cell_type": "code",
   "execution_count": null,
   "id": "b0ed3b5f",
   "metadata": {},
   "outputs": [],
   "source": [
    "SELECT rating, COUNT(*)\n",
    "FROM film \n",
    "GROUP BY rating\n",
    "HAVING COUNT(*) >195"
   ]
  },
  {
   "cell_type": "markdown",
   "id": "1d2bee6d",
   "metadata": {},
   "source": [
    "#### 23. "
   ]
  },
  {
   "cell_type": "code",
   "execution_count": null,
   "id": "96854b7a",
   "metadata": {},
   "outputs": [],
   "source": [
    "SELECT rating, COUNT(*)\n",
    "FROM film \n",
    "GROUP BY rating\n",
    "ORDER BY COUNT (*)"
   ]
  },
  {
   "cell_type": "markdown",
   "id": "40824e62",
   "metadata": {},
   "source": [
    "#### 24. Join three tables "
   ]
  },
  {
   "cell_type": "code",
   "execution_count": null,
   "id": "75743ed4",
   "metadata": {},
   "outputs": [],
   "source": [
    "SELECT rental.rental_id, rental.rental_date, rental.return_date, customer.customer_id, customer.first_name, customer.last_name, staff.staff_id, staff.first_name, staff.last_name\n",
    "FROM rental \n",
    "JOIN customer ON rental.customer_id = customer.customer_id\n",
    "JOIN staff ON rental.staff_id = staff.staff_id"
   ]
  },
  {
   "cell_type": "markdown",
   "id": "c53deb6a",
   "metadata": {},
   "source": [
    "#### 25. Subqueries. Selecting data from another table return. Find payments above average amount"
   ]
  },
  {
   "cell_type": "code",
   "execution_count": null,
   "id": "f615992a",
   "metadata": {},
   "outputs": [],
   "source": [
    "SELECT *\n",
    "FROM payment\n",
    "WHERE amount >\n",
    "\t( SELECT AVG(amount)\n",
    "\t  FROM payment\n",
    "\t )"
   ]
  }
 ],
 "metadata": {
  "kernelspec": {
   "display_name": "Python 3 (ipykernel)",
   "language": "python",
   "name": "python3"
  },
  "language_info": {
   "codemirror_mode": {
    "name": "ipython",
    "version": 3
   },
   "file_extension": ".py",
   "mimetype": "text/x-python",
   "name": "python",
   "nbconvert_exporter": "python",
   "pygments_lexer": "ipython3",
   "version": "3.8.12"
  }
 },
 "nbformat": 4,
 "nbformat_minor": 5
}
